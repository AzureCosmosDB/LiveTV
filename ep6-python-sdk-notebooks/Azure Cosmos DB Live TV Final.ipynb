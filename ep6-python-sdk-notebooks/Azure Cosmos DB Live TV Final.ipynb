{
  "cells": [
    {
      "cell_type": "markdown",
      "id": "18e63c92-c836-49cd-9938-002c5847b2a3",
      "metadata": {
        "nteract": {
          "transient": {
            "deleting": false
          }
        }
      },
      "source": "# Azure Cosmos DB Live TV"
    },
    {
      "cell_type": "code",
      "execution_count": null,
      "id": "4231a367-1609-4fa1-9e29-e6b90edb897f",
      "metadata": {
        "collapsed": true,
        "execution": {
          "iopub.execute_input": "2021-04-01T19:33:51.032Z",
          "iopub.status.busy": "2021-04-01T19:33:51.004Z",
          "iopub.status.idle": "2021-04-01T19:33:51.139Z",
          "shell.execute_reply": "2021-04-01T19:33:51.133Z"
        },
        "jupyter": {
          "outputs_hidden": false,
          "source_hidden": false
        },
        "nteract": {
          "transient": {
            "deleting": false
          }
        },
        "trusted": true
      },
      "outputs": [],
      "source": "## Import (?) Client Initialization (??) + Objects Creation\r\n\r\n######### NOT NECESSARY!!\r\n#from azure.cosmos import CosmosClient\r\n#import os\r\n#url = os.environ['ACCOUNT_URI']\r\n#key = os.environ['ACCOUNT_KEY']\r\n#client = CosmosClient(url, credential=key)\r\n######### NOT NECESSARY!!\r\n\r\n\r\ndb_name = 'AzureCosmosDBLiveTVTestDB'\r\ndatabase_client = cosmos_client.create_database_if_not_exists(db_name)\r\nprint('Database with id \\'{0}\\' created'.format(db_name))"
    },
    {
      "cell_type": "code",
      "execution_count": null,
      "id": "f7270636-717f-47f2-b326-042dfec685c8",
      "metadata": {
        "collapsed": true,
        "execution": {
          "iopub.execute_input": "2021-04-01T19:33:53.615Z",
          "iopub.status.busy": "2021-04-01T19:33:53.611Z",
          "iopub.status.idle": "2021-04-01T19:33:58.555Z",
          "shell.execute_reply": "2021-04-01T19:33:58.627Z"
        },
        "jupyter": {
          "outputs_hidden": false,
          "source_hidden": false
        },
        "nteract": {
          "transient": {
            "deleting": false
          }
        },
        "trusted": true
      },
      "outputs": [],
      "source": "#Creating a container with analytical store\r\nfrom azure.cosmos.partition_key import PartitionKey\r\n\r\ncontainer_name = \"AzureTVData\"\r\npartition_key_value = \"/id\"\r\noffer = 400\r\ncontainer_client = database_client.create_container_if_not_exists(\r\n    id=container_name, \r\n    partition_key=PartitionKey(path=partition_key_value),\r\n    offer_throughput=offer,\r\n    analytical_storage_ttl=-1)\r\nprint('Container with id \\'{0}\\' created'.format(container_name))"
    },
    {
      "cell_type": "code",
      "execution_count": null,
      "id": "ce3aa5b4-f888-459f-b55a-d6242ebdbb18",
      "metadata": {
        "collapsed": true,
        "execution": {
          "iopub.execute_input": "2021-04-01T02:39:32.020Z",
          "iopub.status.busy": "2021-04-01T02:39:32.009Z",
          "iopub.status.idle": "2021-04-01T02:39:32.135Z",
          "shell.execute_reply": "2021-04-01T02:39:32.152Z"
        },
        "jupyter": {
          "outputs_hidden": false,
          "source_hidden": false
        },
        "nteract": {
          "transient": {
            "deleting": false
          }
        },
        "trusted": true
      },
      "outputs": [],
      "source": "#Propreties\r\nproperties = database_client.read()\r\nprint(json.dumps(properties))\r\nprint(\" \")\r\nprint(\" \")\r\nproperties = container_client.read()\r\nprint(json.dumps(properties))"
    },
    {
      "cell_type": "code",
      "execution_count": null,
      "id": "651e6d70-df8d-4b03-8cb9-342f4f9f0cdf",
      "metadata": {
        "collapsed": true,
        "execution": {
          "iopub.execute_input": "2021-04-01T02:41:27.119Z",
          "iopub.status.busy": "2021-04-01T02:41:27.110Z",
          "iopub.status.idle": "2021-04-01T02:37:01.453Z",
          "shell.execute_reply": "2021-04-01T02:37:01.474Z"
        },
        "jupyter": {
          "outputs_hidden": false,
          "source_hidden": false
        },
        "nteract": {
          "transient": {
            "deleting": false
          }
        },
        "trusted": true
      },
      "outputs": [],
      "source": "#DB Offer - ERROR!!!!!!!!!!\r\n\r\n# Dedicated throughput only. Will return error \"offer not found\" for Objects without dedicated throughput\r\n\r\n# Database\r\ndb_offer = database_client.read_offer()\r\nprint('Found Offer \\'{0}\\' for Database \\'{1}\\' and its throughput is \\'{2}\\''.format(db_offer.properties['id'], database.id, db_offer.properties['content']['offerThroughput']))"
    },
    {
      "cell_type": "code",
      "execution_count": null,
      "id": "da775212-43ac-4c30-9dc8-b4ddbb6b0991",
      "metadata": {
        "collapsed": true,
        "execution": {
          "iopub.execute_input": "2021-04-01T02:42:42.185Z",
          "iopub.status.busy": "2021-04-01T02:42:42.174Z",
          "iopub.status.idle": "2021-04-01T02:42:42.207Z",
          "shell.execute_reply": "2021-04-01T02:42:42.217Z"
        },
        "jupyter": {
          "outputs_hidden": false,
          "source_hidden": false
        },
        "nteract": {
          "transient": {
            "deleting": false
          }
        },
        "trusted": true
      },
      "outputs": [],
      "source": "#Container Offer \r\n\r\n# Dedicated throughput only. Will return error \"offer not found\" for Objects without dedicated throughput\r\ncontainer_offer = container_client.read_offer()\r\nprint('Found Offer \\'{0}\\' for Container \\'{1}\\' and its throughput is \\'{2}\\''.format(container_offer.properties['id'], container.id, container_offer.properties['content']['offerThroughput'])) "
    },
    {
      "cell_type": "code",
      "execution_count": null,
      "id": "6303a295-c738-434a-a68f-544c98025af1",
      "metadata": {
        "collapsed": true,
        "execution": {
          "iopub.execute_input": "2021-04-01T19:48:07.986Z",
          "iopub.status.busy": "2021-04-01T19:48:07.982Z",
          "iopub.status.idle": "2021-04-01T02:26:55.281Z",
          "shell.execute_reply": "2021-04-01T02:26:55.300Z"
        },
        "jupyter": {
          "outputs_hidden": false,
          "source_hidden": false
        },
        "nteract": {
          "transient": {
            "deleting": false
          }
        },
        "trusted": true
      },
      "outputs": [],
      "source": "#Query 1 Error????\r\nimport json\r\n\r\ndb = cosmos_client.get_database_client('TestDB')\r\ncontainer = db.get_container_client ('Families')\r\n\r\nfor item in container.query_items(query='SELECT * FROM Familes'):#,enable_cross_partition_query=True):\r\n    print(json.dumps(item, indent=True))"
    },
    {
      "cell_type": "code",
      "execution_count": null,
      "id": "974e059c-70f7-4ea4-a6da-384c2444abd3",
      "metadata": {
        "collapsed": true,
        "execution": {
          "iopub.execute_input": "2021-04-01T02:28:37.698Z",
          "iopub.status.busy": "2021-04-01T02:28:37.631Z",
          "iopub.status.idle": "2021-04-01T02:28:37.726Z",
          "shell.execute_reply": "2021-04-01T02:28:37.740Z"
        },
        "jupyter": {
          "outputs_hidden": false,
          "source_hidden": false
        },
        "nteract": {
          "transient": {
            "deleting": false
          }
        },
        "trusted": true
      },
      "outputs": [],
      "source": "#Query 2\r\nimport json\r\n\r\ndb = cosmos_client.get_database_client('TestDB')\r\ncontainer = db.get_container_client ('Families')\r\n\r\nfor item in container.query_items(query='SELECT * FROM Familes.children',enable_cross_partition_query=True):\r\n    print(json.dumps(item, indent=True))"
    },
    {
      "cell_type": "code",
      "execution_count": null,
      "id": "5d342160-683f-44f3-b0ba-c207116dc488",
      "metadata": {
        "collapsed": true,
        "execution": {
          "iopub.execute_input": "2021-04-01T19:35:40.322Z",
          "iopub.status.busy": "2021-04-01T19:35:40.319Z",
          "iopub.status.idle": "2021-04-01T19:35:40.403Z",
          "shell.execute_reply": "2021-04-01T19:35:40.412Z"
        },
        "jupyter": {
          "outputs_hidden": false,
          "source_hidden": false
        },
        "nteract": {
          "transient": {
            "deleting": false
          }
        },
        "trusted": true
      },
      "outputs": [],
      "source": "# Boolean Test\r\n\r\nfor i in range(1, 10):\r\n    container_client.upsert_item({\r\n            'id': 'item{0}'.format(i),\r\n            'productName': 'Widget',\r\n            'productModel': 'Model {0}'.format(i),\r\n            'isEnabled': True\r\n        }\r\n    )"
    },
    {
      "cell_type": "code",
      "execution_count": null,
      "id": "752c03f4-0c50-4507-88a4-0dc39a6f0cfb",
      "metadata": {
        "collapsed": true,
        "execution": {
          "iopub.execute_input": "2021-04-01T19:38:09.773Z",
          "iopub.status.busy": "2021-04-01T19:38:09.768Z",
          "iopub.status.idle": "2021-04-01T19:38:09.852Z",
          "shell.execute_reply": "2021-04-01T19:38:09.858Z"
        },
        "jupyter": {
          "outputs_hidden": false,
          "source_hidden": false
        },
        "nteract": {
          "transient": {
            "deleting": false
          }
        },
        "trusted": true
      },
      "outputs": [],
      "source": "import json\r\nfor item in container_client.query_items(\r\n        query='SELECT * FROM AzureTVData',\r\n        enable_cross_partition_query=True):\r\n    print(json.dumps(item, indent=True))"
    },
    {
      "cell_type": "code",
      "execution_count": null,
      "id": "a967efeb-a792-4581-af67-3b0c9d27a8de",
      "metadata": {
        "collapsed": true,
        "jupyter": {
          "outputs_hidden": false,
          "source_hidden": false
        },
        "nteract": {
          "transient": {
            "deleting": false
          }
        },
        "trusted": true
      },
      "outputs": [],
      "source": "import json\r\nfor item in container_client.query_items(\r\n        query='SELECT * FROM AzureTVData',\r\n        enable_cross_partition_query=True):\r\n    print(item)"
    }
  ],
  "metadata": {
    "language_info": {
      "file_extension": "ipynb",
      "mimetype": "application/json",
      "name": "python",
      "version": "3.7"
    },
    "nteract": {
      "version": "dataExplorer 1.0"
    }
  },
  "nbformat": 4,
  "nbformat_minor": 5
}